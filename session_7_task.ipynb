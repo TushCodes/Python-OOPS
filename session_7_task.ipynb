{
  "nbformat": 4,
  "nbformat_minor": 0,
  "metadata": {
    "colab": {
      "provenance": [],
      "include_colab_link": true
    },
    "kernelspec": {
      "name": "python3",
      "display_name": "Python 3"
    },
    "language_info": {
      "name": "python"
    }
  },
  "cells": [
    {
      "cell_type": "markdown",
      "metadata": {
        "id": "view-in-github",
        "colab_type": "text"
      },
      "source": [
        "<a href=\"https://colab.research.google.com/github/TushCodes/Python-OOPS/blob/main/session_7_task.ipynb\" target=\"_parent\"><img src=\"https://colab.research.google.com/assets/colab-badge.svg\" alt=\"Open In Colab\"/></a>"
      ]
    },
    {
      "cell_type": "markdown",
      "source": [
        "##`Q-1:` Rectangle Class\n",
        "1. Write a Rectangle class in Python language, allowing you to build a rectangle with length and width attributes.\n",
        "\n",
        "2. Create a Perimeter() method to calculate the perimeter of the rectangle and a Area() method to calculate the area of ​​the rectangle.\n",
        "\n",
        "3. Create a method display() that display the length, width, perimeter and area of an object created using an instantiation on rectangle class."
      ],
      "metadata": {
        "id": "FyUJ3PRAsPr4"
      }
    },
    {
      "cell_type": "markdown",
      "source": [
        "Eg.\n",
        "After making above classes and methods, on executing below code:-\n",
        "```\n",
        "my_rectangle = Rectangle(3 , 4)\n",
        "my_rectangle.display()\n",
        "```\n",
        "\n",
        "`Output:`\n",
        "```\n",
        "The length of rectangle is:  3\n",
        "The width of rectangle is:  4\n",
        "The perimeter of rectangle is:  14\n",
        "The area of rectangle is:  12\n",
        "```\n"
      ],
      "metadata": {
        "id": "GxUtOqJfssFK"
      }
    },
    {
      "cell_type": "code",
      "source": [
        "# write your code here\n",
        "class Rectangle:\n",
        "\n",
        "  def __init__(self, length, width):\n",
        "    self.length=length\n",
        "    self.width=width\n",
        "\n",
        "  def perimeter(self):\n",
        "    return 2*(self.length+self.width)\n",
        "\n",
        "  def area(self):\n",
        "    return self.length*self.width\n",
        "\n",
        "  def display(self):\n",
        "    print(\"The length of rectangle is:\", self.length)\n",
        "    print(\"The width of rectangle is:\", self.width)\n",
        "    print(\"The perimeter of rectangle is:\", self.perimeter())\n",
        "    print(\"The area of rectangle is:\", self.area())\n",
        "\n",
        "r = Rectangle(3.0,4.0)\n",
        "r.display()"
      ],
      "metadata": {
        "id": "92_QT-Uj6NBg",
        "outputId": "c70bb2a2-f95e-414a-af15-7ed72b693263",
        "colab": {
          "base_uri": "https://localhost:8080/"
        }
      },
      "execution_count": null,
      "outputs": [
        {
          "output_type": "stream",
          "name": "stdout",
          "text": [
            "The length of rectangle is: 3.0\n",
            "The width of rectangle is: 4.0\n",
            "The perimeter of rectangle is: 14.0\n",
            "The area of rectangle is: 12.0\n"
          ]
        }
      ]
    },
    {
      "cell_type": "markdown",
      "source": [
        "##`Q-2: Bank Class`\n",
        "\n",
        "1. Create a Python class called `BankAccount` which represents a bank account, having as attributes: `accountNumber` (numeric type), `name` (name of the account owner as string type), `balance`.\n",
        "2. Create a constructor with parameters: `accountNumber, name, balance`.\n",
        "3. Create a `Deposit()` method which manages the deposit actions.\n",
        "4. Create a `Withdrawal()` method  which manages withdrawals actions.\n",
        "5. Create an `bankFees()` method to apply the bank fees with a percentage of 5% of the balance account.\n",
        "6. Create a `display()` method to display account details.\n",
        "Give the complete code for the  BankAccount class."
      ],
      "metadata": {
        "id": "r_GxrS0Vrdom"
      }
    },
    {
      "cell_type": "markdown",
      "source": [
        "Eg.\n",
        "After making above classes and methods, on executing below code:-\n",
        "```\n",
        "newAccount = BankAccount(2178514584, \"Mandy\" , 2800)\n",
        "\n",
        "newAccount.Withdrawal(700)\n",
        "\n",
        "newAccount.Deposit(1000)\n",
        "\n",
        "newAccount.display()\n",
        "```\n",
        "\n",
        "`Output:`\n",
        "```\n",
        "Account Number :  2178514584\n",
        "Account Name :  Mandy\n",
        "Account Balance :  3100 ₹\n",
        "```"
      ],
      "metadata": {
        "id": "qvVkOUJgvTV_"
      }
    },
    {
      "cell_type": "code",
      "source": [
        "# write your code here\n",
        "class BankAccount:\n",
        "  def __init__(self, accountNumber: int, name: str, balance=0) -> None:\n",
        "        self._accountNumber = accountNumber\n",
        "        self._name = name\n",
        "        self._balance = balance\n",
        "\n",
        "    # Getter method for accountNumber\n",
        "  def get_accountNumber(self) -> int:\n",
        "        return self._accountNumber\n",
        "\n",
        "    # Setter method for accountNumber\n",
        "  def set_accountNumber(self, accountNumber: int) -> None:\n",
        "        self._accountNumber = accountNumber\n",
        "\n",
        "    # Getter method for name\n",
        "  def get_name(self) -> str:\n",
        "        return self._name\n",
        "\n",
        "    # Setter method for name\n",
        "  def set_name(self, name: str) -> None:\n",
        "        self._name = name\n",
        "\n",
        "    # Getter method for balance\n",
        "  def get_balance(self) -> float:\n",
        "        return self._balance\n",
        "\n",
        "    # Setter method for balance\n",
        "  def set_balance(self, balance: float) -> None:\n",
        "        self._balance = balance\n",
        "\n",
        "  def deposit(self, amount):\n",
        "    self.set_balance(self.get_balance()+amount)\n",
        "\n",
        "  def withdrawal(self, amount):\n",
        "    if amount>self.get_balance():\n",
        "      print('Balance insufficient!')\n",
        "    else:\n",
        "      self.set_balance(self.get_balance()-amount)\n",
        "\n",
        "b = BankAccount(1,'t', 1000)\n",
        "b.deposit(5)\n",
        "b.withdrawal(100)\n",
        "b.get_balance()\n",
        "b.withdrawal(20000)\n",
        "b.get_balance()"
      ],
      "metadata": {
        "id": "fUQOmQyA6YDR",
        "colab": {
          "base_uri": "https://localhost:8080/"
        },
        "outputId": "e55ecd9b-b14c-4fa1-c5df-8c481e5a742a"
      },
      "execution_count": 6,
      "outputs": [
        {
          "output_type": "stream",
          "name": "stdout",
          "text": [
            "Balance insufficient!\n"
          ]
        },
        {
          "output_type": "execute_result",
          "data": {
            "text/plain": [
              "905"
            ]
          },
          "metadata": {},
          "execution_count": 6
        }
      ]
    },
    {
      "cell_type": "code",
      "source": [
        "class Account:\n",
        "    def __init__(self, accountNumber: int, name: str, balance=0) -> None:\n",
        "        self._accountNumber = accountNumber\n",
        "        self._name = name\n",
        "        self._balance = balance\n",
        "\n",
        "    # Getter method for accountNumber\n",
        "    def get_accountNumber(self) -> int:\n",
        "        return self._accountNumber\n",
        "\n",
        "    # Setter method for accountNumber\n",
        "    def set_accountNumber(self, accountNumber: int) -> None:\n",
        "        self._accountNumber = accountNumber\n",
        "\n",
        "    # Getter method for name\n",
        "    def get_name(self) -> str:\n",
        "        return self._name\n",
        "\n",
        "    # Setter method for name\n",
        "    def set_name(self, name: str) -> None:\n",
        "        self._name = name\n",
        "\n",
        "    # Getter method for balance\n",
        "    def get_balance(self) -> float:\n",
        "        return self._balance\n",
        "\n",
        "    # Setter method for balance\n",
        "    def set_balance(self, balance: float) -> None:\n",
        "        self._balance = balance\n"
      ],
      "metadata": {
        "id": "dsfzgdLnDnx2"
      },
      "execution_count": null,
      "outputs": []
    },
    {
      "cell_type": "markdown",
      "source": [
        "##`Q-3:Computation class`\n",
        "\n",
        "1. Create a `Computation` class with a default constructor (without parameters) allowing to perform various calculations on integers numbers.\n",
        "2. Create a method called `Factorial()` which allows to calculate the factorial of an integer n. Integer n as parameter for this method\n",
        "\n",
        "3. Create a method called `naturalSum()` allowing to calculate the sum of the first n integers 1 + 2 + 3 + .. + n. Integer n as parameter for this method.\n",
        "\n",
        "4. Create a method called `testPrime()` in  the Calculation class to test the primality of a given integer n, n is Prime or Not? Integer n as parameter for this method.\n",
        "\n",
        "5. Create  a method called `testPrims()` allowing to test if two numbers are prime between them. Two integers are prime to one another if they have only `1` as their common divisor. Eg. 4 and 9 are prime to each other.\n",
        "\n",
        "5. Create a `tableMult()` method which creates and displays the multiplication table of a given integer. Then create an `allTablesMult()` method to display all the integer multiplication tables 1, 2, 3, ..., 9.\n",
        "\n",
        "6. Create a static `listDiv()` method that gets all the divisors of a given integer on new list called  Ldiv. Create another `listDivPrim()` method that gets all the prime divisors of a given integer."
      ],
      "metadata": {
        "id": "QovcQAZTrgGU"
      }
    },
    {
      "cell_type": "code",
      "source": [
        "# write your code here"
      ],
      "metadata": {
        "id": "YEkPH70l6Z-o"
      },
      "execution_count": null,
      "outputs": []
    },
    {
      "cell_type": "markdown",
      "source": [
        "##`Q-4`: Build flashcard using class in Python.\n",
        "\n",
        "Build a flashcard using class in python. A flashcard is a card having information on both sides, which can be used as an aid in memoization. Flashcards usually have a question on one side and an answer on the other.\n",
        "\n",
        "**Example 1:**\n",
        "\n",
        "Approach:\n",
        "\n",
        "- Create a class named FlashCard.\n",
        "- Initialize dictionary fruits using __init__() method. Here you have to define fruit name as key and it's color as value. E.g., {\"Banana\": \"yellow\", \"Strawberries\": \"pink\"}\n",
        "- Now randomly choose a pair from fruits by using _random_ module and store the key in variable _fruit_ and _value_ in variable color.\n",
        "- Now prompt the user to answer the color of the randomly chosen fruit.\n",
        "- If correct print correct else print wrong.\n",
        "\n",
        "Output:\n",
        "```bash\n",
        "welcome to fruit quiz\n",
        "What is the color of Strawberries\n",
        "pink\n",
        "Correct answer\n",
        "Enter 0, if you want to play again: 0\n",
        "What is the color of watermelon\n",
        "green\n",
        "Correct answer\n",
        "Enter 0, if you want to play again: 1\n",
        "```"
      ],
      "metadata": {
        "id": "0yn23_oEriXa"
      }
    },
    {
      "cell_type": "code",
      "source": [
        "# write your code here"
      ],
      "metadata": {
        "id": "vCrUF6VU6l6w"
      },
      "execution_count": null,
      "outputs": []
    },
    {
      "cell_type": "markdown",
      "source": [
        "## `Q-5:` Problem 5 based on OOP Python.\n",
        "\n",
        "TechWorld, a technology training center, wants to allocate courses for instructors. An instructor is identified by name, technology skills, experience and average feedback. An instructor is allocated a course, if he/she satisfies the below two conditions:\n",
        "- eligibility criteria:\n",
        "    - if experience is more than 3 years, average feedback should be 4.5 or more\n",
        "    - if experience is 3 years or less, average feedback should be 4 or more\n",
        "- he/she should posses the technology skill for the course\n",
        "\n",
        "Identify the class name and attributes to represent instructors. Write a Python program to implement the class chosen with its attributes and methods.\n",
        "\n",
        "**Note:**\n",
        "- Consider all instance variables to be private and methods to be public.\n",
        "- An instructor may have multiple technology skills, so consider instance variable, technology_skill to be a list.\n",
        "- *check_eligibility()*: Return true if eligibility criteria is satisfied by the instructor. Else, return false\n",
        "- *allocate_course(technology)*: Return true if the course which requires the given technology can be allocated to the instructor. Else, return false.\n",
        "\n",
        "Represent a few objects of the class, initialize instance variables using setter methods, invoke\n",
        "appropriate methods and test your program."
      ],
      "metadata": {
        "id": "GN2r0jbRewYr"
      }
    },
    {
      "cell_type": "code",
      "source": [
        "# write your code here"
      ],
      "metadata": {
        "id": "pdMFuVFnlvKL"
      },
      "execution_count": null,
      "outputs": []
    }
  ]
}